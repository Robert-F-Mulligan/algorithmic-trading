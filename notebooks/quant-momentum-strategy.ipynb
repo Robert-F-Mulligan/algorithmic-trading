{
 "cells": [
  {
   "cell_type": "code",
   "execution_count": 3,
   "metadata": {},
   "outputs": [],
   "source": [
    "import numpy as np\n",
    "import pandas as pd\n",
    "import requests\n",
    "import xlsxwriter\n",
    "import math\n",
    "from scipy import stats\n",
    "import os"
   ]
  },
  {
   "cell_type": "code",
   "execution_count": 4,
   "metadata": {},
   "outputs": [],
   "source": [
    "# change the directiory to root to allow importing of py files saved in algorithmictrading\n",
    "os.chdir(r'..\\\\')\n",
    "from algorithmictrading.secrets import IEX_CLOUD_API_TOKEN"
   ]
  },
  {
   "cell_type": "markdown",
   "metadata": {},
   "source": [
    "# Data Loading - S&P 500 Index\n",
    "The S&P 500 Index is one of the most common benchmarks for US Large Cap stocks. It tracks the performance of 500 of the largest companies in the United States.\n",
    "\n",
    "You can substitute any list of tickers for this equal weight walk-through. The list of stocks should be aved in the *data* folder."
   ]
  },
  {
   "cell_type": "code",
   "execution_count": 6,
   "metadata": {},
   "outputs": [
    {
     "data": {
      "text/html": [
       "<div>\n",
       "<style scoped>\n",
       "    .dataframe tbody tr th:only-of-type {\n",
       "        vertical-align: middle;\n",
       "    }\n",
       "\n",
       "    .dataframe tbody tr th {\n",
       "        vertical-align: top;\n",
       "    }\n",
       "\n",
       "    .dataframe thead th {\n",
       "        text-align: right;\n",
       "    }\n",
       "</style>\n",
       "<table border=\"1\" class=\"dataframe\">\n",
       "  <thead>\n",
       "    <tr style=\"text-align: right;\">\n",
       "      <th></th>\n",
       "      <th>Ticker</th>\n",
       "    </tr>\n",
       "  </thead>\n",
       "  <tbody>\n",
       "    <tr>\n",
       "      <th>0</th>\n",
       "      <td>A</td>\n",
       "    </tr>\n",
       "    <tr>\n",
       "      <th>1</th>\n",
       "      <td>AAL</td>\n",
       "    </tr>\n",
       "    <tr>\n",
       "      <th>2</th>\n",
       "      <td>AAP</td>\n",
       "    </tr>\n",
       "    <tr>\n",
       "      <th>3</th>\n",
       "      <td>AAPL</td>\n",
       "    </tr>\n",
       "    <tr>\n",
       "      <th>4</th>\n",
       "      <td>ABBV</td>\n",
       "    </tr>\n",
       "  </tbody>\n",
       "</table>\n",
       "</div>"
      ],
      "text/plain": [
       "  Ticker\n",
       "0      A\n",
       "1    AAL\n",
       "2    AAP\n",
       "3   AAPL\n",
       "4   ABBV"
      ]
     },
     "execution_count": 6,
     "metadata": {},
     "output_type": "execute_result"
    }
   ],
   "source": [
    "stocks = pd.read_csv(r'.\\data\\sp_500_stocks.csv')\n",
    "stocks.head()"
   ]
  },
  {
   "cell_type": "markdown",
   "metadata": {},
   "source": [
    "# Connecting to the IEX API\n",
    "We will be using the free IEX Cloud API for the market data. Prices are purpsefully scrambled and are NOT meant for production!\n",
    "\n",
    "[Documentation can be found here.](https://iexcloud.io/docs/api/#testing-sandbox)\n",
    "\n",
    "We can use the base URL and pass `symbol` and `token` to connect to the API and pull in the correct data."
   ]
  },
  {
   "cell_type": "code",
   "execution_count": 8,
   "metadata": {},
   "outputs": [
    {
     "data": {
      "text/plain": [
       "{'companyName': 'Apple Inc',\n",
       " 'marketcap': 2173625669763,\n",
       " 'week52high': 141.36,\n",
       " 'week52low': 58.01,\n",
       " 'week52change': 0.6933281163316503,\n",
       " 'sharesOutstanding': 17462085410,\n",
       " 'float': 0,\n",
       " 'avg10Volume': 119688057,\n",
       " 'avg30Volume': 117945720,\n",
       " 'day200MovingAvg': 117.92,\n",
       " 'day50MovingAvg': 129.95,\n",
       " 'employees': 0,\n",
       " 'ttmEPS': 3.29,\n",
       " 'ttmDividendRate': 0.8400082494886704,\n",
       " 'dividendYield': 0.006490665779938774,\n",
       " 'nextDividendDate': '0',\n",
       " 'exDividendDate': '2020-11-05',\n",
       " 'nextEarningsDate': '0',\n",
       " 'peRatio': 39.505951256412,\n",
       " 'beta': 1.1720825462923594,\n",
       " 'maxChangePercent': 48.9134602448249,\n",
       " 'year5ChangePercent': 4.707256853794466,\n",
       " 'year2ChangePercent': 2.506256873581805,\n",
       " 'year1ChangePercent': 0.688802859169871,\n",
       " 'ytdChangePercent': -0.030602956595569525,\n",
       " 'month6ChangePercent': 0.3523184306009466,\n",
       " 'month3ChangePercent': 0.0384143316205799,\n",
       " 'month1ChangePercent': 0.05351798877141296,\n",
       " 'day30ChangePercent': 0.05224376040739527,\n",
       " 'day5ChangePercent': -0.01694180525930723}"
      ]
     },
     "execution_count": 8,
     "metadata": {},
     "output_type": "execute_result"
    }
   ],
   "source": [
    "BASE_URL = 'https://sandbox.iexapis.com/stable'\n",
    "symbol = 'AAPL'\n",
    "stats = f'/stock/{symbol}/stats?token={IEX_CLOUD_API_TOKEN}'\n",
    "\n",
    "data = requests.get(BASE_URL+stats).json()\n",
    "data"
   ]
  },
  {
   "cell_type": "code",
   "execution_count": 9,
   "metadata": {},
   "outputs": [
    {
     "data": {
      "text/plain": [
       "0.688802859169871"
      ]
     },
     "execution_count": 9,
     "metadata": {},
     "output_type": "execute_result"
    }
   ],
   "source": [
    "# momentum stat\n",
    "data['year1ChangePercent']"
   ]
  },
  {
   "cell_type": "markdown",
   "metadata": {},
   "source": [
    "# Making Batch API Calls\n",
    "As seen in the [equal weight SP 500 notebook](.\\notebooks\\sp500-equal-weight.ipynb), making a single http request is really slow. We are much better served breaking up our security list into small batches. The IEX API limits 100 symbols per batch, we we will make 6 http requests."
   ]
  },
  {
   "cell_type": "code",
   "execution_count": 10,
   "metadata": {},
   "outputs": [],
   "source": [
    "def make_chunks(df):\n",
    "     return np.array_split(df['Ticker'].to_list(), np.ceil(len(df) / 100))\n",
    "\n",
    "def get_data_batch(df):\n",
    "    df_list = []\n",
    "    chunks = make_chunks(df)\n",
    "    for chunk in chunks:\n",
    "        ticker_strings = ','.join(chunk)\n",
    "        batch_api_call_url = f'https://sandbox.iexapis.com/stable/stock/market/batch/?types=stats,quote&symbols={ticker_strings}&token={IEX_CLOUD_API_TOKEN}'\n",
    "        data = requests.get(batch_api_call_url).json()\n",
    "        tickers = [k for k in data.keys()]\n",
    "        latestprices = [data[k]['quote']['latestPrice'] for k in data.keys()]\n",
    "        one_year_changes = [data[k]['stats']['year1ChangePercent'] for k in data.keys()]\n",
    "        df = pd.DataFrame({'ticker': tickers, 'latest_price': latestprices, '1_year_change': one_year_changes})\n",
    "        df_list.append(df)\n",
    "    return  pd.concat(df_list, ignore_index=True)\n"
   ]
  },
  {
   "cell_type": "code",
   "execution_count": 11,
   "metadata": {},
   "outputs": [
    {
     "data": {
      "text/html": [
       "<div>\n",
       "<style scoped>\n",
       "    .dataframe tbody tr th:only-of-type {\n",
       "        vertical-align: middle;\n",
       "    }\n",
       "\n",
       "    .dataframe tbody tr th {\n",
       "        vertical-align: top;\n",
       "    }\n",
       "\n",
       "    .dataframe thead th {\n",
       "        text-align: right;\n",
       "    }\n",
       "</style>\n",
       "<table border=\"1\" class=\"dataframe\">\n",
       "  <thead>\n",
       "    <tr style=\"text-align: right;\">\n",
       "      <th></th>\n",
       "      <th>ticker</th>\n",
       "      <th>latest_price</th>\n",
       "      <th>1_year_change</th>\n",
       "    </tr>\n",
       "  </thead>\n",
       "  <tbody>\n",
       "    <tr>\n",
       "      <th>0</th>\n",
       "      <td>A</td>\n",
       "      <td>129.830</td>\n",
       "      <td>0.468475</td>\n",
       "    </tr>\n",
       "    <tr>\n",
       "      <th>1</th>\n",
       "      <td>AAL</td>\n",
       "      <td>15.865</td>\n",
       "      <td>-0.450572</td>\n",
       "    </tr>\n",
       "    <tr>\n",
       "      <th>2</th>\n",
       "      <td>AAP</td>\n",
       "      <td>174.940</td>\n",
       "      <td>0.200965</td>\n",
       "    </tr>\n",
       "    <tr>\n",
       "      <th>3</th>\n",
       "      <td>AAPL</td>\n",
       "      <td>129.750</td>\n",
       "      <td>0.682180</td>\n",
       "    </tr>\n",
       "    <tr>\n",
       "      <th>4</th>\n",
       "      <td>ABBV</td>\n",
       "      <td>113.080</td>\n",
       "      <td>0.303073</td>\n",
       "    </tr>\n",
       "  </tbody>\n",
       "</table>\n",
       "</div>"
      ],
      "text/plain": [
       "  ticker  latest_price  1_year_change\n",
       "0      A       129.830       0.468475\n",
       "1    AAL        15.865      -0.450572\n",
       "2    AAP       174.940       0.200965\n",
       "3   AAPL       129.750       0.682180\n",
       "4   ABBV       113.080       0.303073"
      ]
     },
     "execution_count": 11,
     "metadata": {},
     "output_type": "execute_result"
    }
   ],
   "source": [
    "df = get_data_batch(stocks)\n",
    "df.head()"
   ]
  },
  {
   "cell_type": "code",
   "execution_count": 22,
   "metadata": {},
   "outputs": [],
   "source": [
    "def transform_momentum_df(df):\n",
    "    df = df.copy()\n",
    "    return (df.sort_values('1_year_change', ascending=False)\n",
    "              .reset_index(drop=True)\n",
    "              .iloc[:50]\n",
    "           )"
   ]
  },
  {
   "cell_type": "code",
   "execution_count": 25,
   "metadata": {},
   "outputs": [
    {
     "data": {
      "text/html": [
       "<div>\n",
       "<style scoped>\n",
       "    .dataframe tbody tr th:only-of-type {\n",
       "        vertical-align: middle;\n",
       "    }\n",
       "\n",
       "    .dataframe tbody tr th {\n",
       "        vertical-align: top;\n",
       "    }\n",
       "\n",
       "    .dataframe thead th {\n",
       "        text-align: right;\n",
       "    }\n",
       "</style>\n",
       "<table border=\"1\" class=\"dataframe\">\n",
       "  <thead>\n",
       "    <tr style=\"text-align: right;\">\n",
       "      <th></th>\n",
       "      <th>ticker</th>\n",
       "      <th>latest_price</th>\n",
       "      <th>1_year_change</th>\n",
       "    </tr>\n",
       "  </thead>\n",
       "  <tbody>\n",
       "    <tr>\n",
       "      <th>0</th>\n",
       "      <td>CARR</td>\n",
       "      <td>42.290</td>\n",
       "      <td>2.585607</td>\n",
       "    </tr>\n",
       "    <tr>\n",
       "      <th>1</th>\n",
       "      <td>ALB</td>\n",
       "      <td>182.680</td>\n",
       "      <td>1.620473</td>\n",
       "    </tr>\n",
       "    <tr>\n",
       "      <th>2</th>\n",
       "      <td>LB</td>\n",
       "      <td>47.567</td>\n",
       "      <td>1.468541</td>\n",
       "    </tr>\n",
       "    <tr>\n",
       "      <th>3</th>\n",
       "      <td>FCX</td>\n",
       "      <td>31.570</td>\n",
       "      <td>1.429277</td>\n",
       "    </tr>\n",
       "    <tr>\n",
       "      <th>4</th>\n",
       "      <td>NVDA</td>\n",
       "      <td>547.490</td>\n",
       "      <td>1.237922</td>\n",
       "    </tr>\n",
       "  </tbody>\n",
       "</table>\n",
       "</div>"
      ],
      "text/plain": [
       "  ticker  latest_price  1_year_change\n",
       "0   CARR        42.290       2.585607\n",
       "1    ALB       182.680       1.620473\n",
       "2     LB        47.567       1.468541\n",
       "3    FCX        31.570       1.429277\n",
       "4   NVDA       547.490       1.237922"
      ]
     },
     "execution_count": 25,
     "metadata": {},
     "output_type": "execute_result"
    }
   ],
   "source": [
    "mom_df = transform_momentum_df(df)\n",
    "mom_df.head()"
   ]
  },
  {
   "cell_type": "code",
   "execution_count": null,
   "metadata": {},
   "outputs": [],
   "source": []
  }
 ],
 "metadata": {
  "kernelspec": {
   "display_name": "algo",
   "language": "python",
   "name": "algo"
  },
  "language_info": {
   "codemirror_mode": {
    "name": "ipython",
    "version": 3
   },
   "file_extension": ".py",
   "mimetype": "text/x-python",
   "name": "python",
   "nbconvert_exporter": "python",
   "pygments_lexer": "ipython3",
   "version": "3.8.3"
  }
 },
 "nbformat": 4,
 "nbformat_minor": 4
}
