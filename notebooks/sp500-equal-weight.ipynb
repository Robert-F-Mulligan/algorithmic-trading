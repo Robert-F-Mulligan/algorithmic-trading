{
 "cells": [
  {
   "cell_type": "code",
   "execution_count": 16,
   "metadata": {},
   "outputs": [],
   "source": [
    "import numpy as np\n",
    "import pandas as pd\n",
    "import requests\n",
    "import xlsxwriter\n",
    "import os"
   ]
  },
  {
   "cell_type": "code",
   "execution_count": 2,
   "metadata": {},
   "outputs": [],
   "source": [
    "# change the directiory to root to allow importing of py files saved in algorithmictrading\n",
    "os.chdir(r'..\\\\')\n",
    "from algorithmictrading.secrets import IEX_CLOUD_API_TOKEN"
   ]
  },
  {
   "cell_type": "markdown",
   "metadata": {},
   "source": [
    "# Data Loading - S&P 500 Index\n",
    "The S&P 500 Index is one of the most common benchmarks for US Large Cap stocks. It tracks the performance of 500 of the largest companies in the United States.\n",
    "\n",
    "You can substitute any list of tickers for this equal weight walk-through. The list of stocks should be aved in the *data* folder."
   ]
  },
  {
   "cell_type": "code",
   "execution_count": 6,
   "metadata": {},
   "outputs": [],
   "source": [
    "stocks = pd.read_csv(r'.\\data\\sp_500_stocks.csv')"
   ]
  },
  {
   "cell_type": "code",
   "execution_count": 7,
   "metadata": {},
   "outputs": [
    {
     "data": {
      "text/html": [
       "<div>\n",
       "<style scoped>\n",
       "    .dataframe tbody tr th:only-of-type {\n",
       "        vertical-align: middle;\n",
       "    }\n",
       "\n",
       "    .dataframe tbody tr th {\n",
       "        vertical-align: top;\n",
       "    }\n",
       "\n",
       "    .dataframe thead th {\n",
       "        text-align: right;\n",
       "    }\n",
       "</style>\n",
       "<table border=\"1\" class=\"dataframe\">\n",
       "  <thead>\n",
       "    <tr style=\"text-align: right;\">\n",
       "      <th></th>\n",
       "      <th>Ticker</th>\n",
       "    </tr>\n",
       "  </thead>\n",
       "  <tbody>\n",
       "    <tr>\n",
       "      <th>0</th>\n",
       "      <td>A</td>\n",
       "    </tr>\n",
       "    <tr>\n",
       "      <th>1</th>\n",
       "      <td>AAL</td>\n",
       "    </tr>\n",
       "    <tr>\n",
       "      <th>2</th>\n",
       "      <td>AAP</td>\n",
       "    </tr>\n",
       "    <tr>\n",
       "      <th>3</th>\n",
       "      <td>AAPL</td>\n",
       "    </tr>\n",
       "    <tr>\n",
       "      <th>4</th>\n",
       "      <td>ABBV</td>\n",
       "    </tr>\n",
       "  </tbody>\n",
       "</table>\n",
       "</div>"
      ],
      "text/plain": [
       "  Ticker\n",
       "0      A\n",
       "1    AAL\n",
       "2    AAP\n",
       "3   AAPL\n",
       "4   ABBV"
      ]
     },
     "execution_count": 7,
     "metadata": {},
     "output_type": "execute_result"
    }
   ],
   "source": [
    "stocks.head()"
   ]
  },
  {
   "cell_type": "markdown",
   "metadata": {},
   "source": [
    "# Connecting to the IEX API\n",
    "We will be using the free IEX Cloud API for the market data. Prices are purpsefully scrambled and are NOT meant for production!\n",
    "\n",
    "[Documentation can be found here.](https://iexcloud.io/docs/api/#testing-sandbox)\n",
    "\n",
    "We can use the base URL and pass `symbol` and `token` to connect to the API and pull in the correct data."
   ]
  },
  {
   "cell_type": "code",
   "execution_count": 291,
   "metadata": {},
   "outputs": [],
   "source": [
    "BASE_URL = 'https://sandbox.iexapis.com/stable'\n",
    "symbol = 'AAPL'\n",
    "quote = f'/stock/{symbol}/quote/?token={IEX_CLOUD_API_TOKEN}'"
   ]
  },
  {
   "cell_type": "code",
   "execution_count": 292,
   "metadata": {},
   "outputs": [
    {
     "data": {
      "text/plain": [
       "{'symbol': 'AAPL',\n",
       " 'companyName': 'Apple Inc',\n",
       " 'primaryExchange': 'LAAEEO(CE GAA)R TN/S GLQSMKTSDBNL',\n",
       " 'calculationPrice': 'iexlasttrade',\n",
       " 'open': None,\n",
       " 'openTime': None,\n",
       " 'openSource': 'iflfiaoc',\n",
       " 'close': None,\n",
       " 'closeTime': None,\n",
       " 'closeSource': 'ciafflio',\n",
       " 'high': None,\n",
       " 'highTime': None,\n",
       " 'highSource': None,\n",
       " 'low': None,\n",
       " 'lowTime': None,\n",
       " 'lowSource': None,\n",
       " 'latestPrice': 131.21,\n",
       " 'latestSource': 'IEX Last Trade',\n",
       " 'latestTime': 'January 12, 2021',\n",
       " 'latestUpdate': 1651745548692,\n",
       " 'latestVolume': None,\n",
       " 'iexRealtimePrice': 134.36,\n",
       " 'iexRealtimeSize': 938,\n",
       " 'iexLastUpdated': 1621590519543,\n",
       " 'delayedPrice': None,\n",
       " 'delayedPriceTime': None,\n",
       " 'oddLotDelayedPrice': None,\n",
       " 'oddLotDelayedPriceTime': None,\n",
       " 'extendedPrice': None,\n",
       " 'extendedChange': None,\n",
       " 'extendedChangePercent': None,\n",
       " 'extendedPriceTime': None,\n",
       " 'previousClose': 129.63,\n",
       " 'previousVolume': 103997884,\n",
       " 'change': -0.1,\n",
       " 'changePercent': -0.00078,\n",
       " 'volume': None,\n",
       " 'iexMarketPercent': 0.009192691546355637,\n",
       " 'iexVolume': 838271,\n",
       " 'avgTotalVolume': 120002459,\n",
       " 'iexBidPrice': 0,\n",
       " 'iexBidSize': 0,\n",
       " 'iexAskPrice': 0,\n",
       " 'iexAskSize': 0,\n",
       " 'iexOpen': 132.97,\n",
       " 'iexOpenTime': 1631410893630,\n",
       " 'iexClose': 129.23,\n",
       " 'iexCloseTime': 1642017407499,\n",
       " 'marketCap': 2192548654516,\n",
       " 'peRatio': 39.66,\n",
       " 'week52High': 138.48,\n",
       " 'week52Low': 56.71,\n",
       " 'ytdChange': -0.02932166786195603,\n",
       " 'lastTradeTime': 1648204627422,\n",
       " 'isUSMarketOpen': False}"
      ]
     },
     "execution_count": 292,
     "metadata": {},
     "output_type": "execute_result"
    }
   ],
   "source": [
    "data = requests.get(BASE_URL + quote).json()\n",
    "\n",
    "data"
   ]
  },
  {
   "cell_type": "markdown",
   "metadata": {},
   "source": [
    "The data is stored as a `dict`, which means we can easily access the attribute by specifying it's key."
   ]
  },
  {
   "cell_type": "code",
   "execution_count": 293,
   "metadata": {},
   "outputs": [
    {
     "data": {
      "text/plain": [
       "'Apple Inc'"
      ]
     },
     "execution_count": 293,
     "metadata": {},
     "output_type": "execute_result"
    }
   ],
   "source": [
    "data['companyName']"
   ]
  },
  {
   "cell_type": "markdown",
   "metadata": {},
   "source": [
    "In order to get stock information, we can apply a function across each row in the `dataframe`. A helper function has been created to all a symbol and a specified field to be passed as arguments."
   ]
  },
  {
   "cell_type": "code",
   "execution_count": 57,
   "metadata": {},
   "outputs": [],
   "source": [
    "def get_api_data(symbol, field):\n",
    "    quote = f'/stock/{symbol}/quote/?token={IEX_CLOUD_API_TOKEN}'\n",
    "    data = requests.get(BASE_URL + quote).json()\n",
    "    return data[field]"
   ]
  },
  {
   "cell_type": "code",
   "execution_count": 60,
   "metadata": {},
   "outputs": [],
   "source": [
    "df = stocks.copy()\n",
    "df = (df.assign(stock_price= lambda x: x['Ticker'].apply(get_api_data, field='latestPrice'),\n",
    "                market_cap= lambda x: x['Ticker'].apply(get_api_data, field='marketCap')))"
   ]
  },
  {
   "cell_type": "code",
   "execution_count": 61,
   "metadata": {},
   "outputs": [
    {
     "data": {
      "text/html": [
       "<div>\n",
       "<style scoped>\n",
       "    .dataframe tbody tr th:only-of-type {\n",
       "        vertical-align: middle;\n",
       "    }\n",
       "\n",
       "    .dataframe tbody tr th {\n",
       "        vertical-align: top;\n",
       "    }\n",
       "\n",
       "    .dataframe thead th {\n",
       "        text-align: right;\n",
       "    }\n",
       "</style>\n",
       "<table border=\"1\" class=\"dataframe\">\n",
       "  <thead>\n",
       "    <tr style=\"text-align: right;\">\n",
       "      <th></th>\n",
       "      <th>Ticker</th>\n",
       "      <th>stock_price</th>\n",
       "      <th>market_cap</th>\n",
       "    </tr>\n",
       "  </thead>\n",
       "  <tbody>\n",
       "    <tr>\n",
       "      <th>0</th>\n",
       "      <td>A</td>\n",
       "      <td>132.610</td>\n",
       "      <td>39.791959</td>\n",
       "    </tr>\n",
       "    <tr>\n",
       "      <th>1</th>\n",
       "      <td>AAL</td>\n",
       "      <td>15.247</td>\n",
       "      <td>9.337053</td>\n",
       "    </tr>\n",
       "    <tr>\n",
       "      <th>2</th>\n",
       "      <td>AAP</td>\n",
       "      <td>182.520</td>\n",
       "      <td>12.002677</td>\n",
       "    </tr>\n",
       "    <tr>\n",
       "      <th>3</th>\n",
       "      <td>AAPL</td>\n",
       "      <td>131.639</td>\n",
       "      <td>2232.828754</td>\n",
       "    </tr>\n",
       "    <tr>\n",
       "      <th>4</th>\n",
       "      <td>ABBV</td>\n",
       "      <td>111.054</td>\n",
       "      <td>201.947629</td>\n",
       "    </tr>\n",
       "  </tbody>\n",
       "</table>\n",
       "</div>"
      ],
      "text/plain": [
       "  Ticker  stock_price   market_cap\n",
       "0      A      132.610    39.791959\n",
       "1    AAL       15.247     9.337053\n",
       "2    AAP      182.520    12.002677\n",
       "3   AAPL      131.639  2232.828754\n",
       "4   ABBV      111.054   201.947629"
      ]
     },
     "execution_count": 61,
     "metadata": {},
     "output_type": "execute_result"
    }
   ],
   "source": [
    "df.head()"
   ]
  },
  {
   "cell_type": "markdown",
   "metadata": {},
   "source": [
    "# Making Batch API Calls\n",
    "Using `.apply()` works - however it is *really* slow. We can significantly speed up the data retrieval process by making batch requests through the API instead of making 500+ http requests (one for each ticker). The IEX API has a limit of 100 tickers per batch request. "
   ]
  },
  {
   "cell_type": "code",
   "execution_count": 270,
   "metadata": {},
   "outputs": [],
   "source": [
    "def make_chunks(df):\n",
    "     return np.array_split(df['Ticker'].to_list(), np.ceil(len(df) / 100))\n",
    "\n",
    "def get_data_batch(df):\n",
    "    df_list = []\n",
    "    chunks = make_chunks(df)\n",
    "    for chunk in chunks:\n",
    "        ticker_strings = ','.join(chunk)\n",
    "        batch_api_call_url = f'https://sandbox.iexapis.com/stable/stock/market/batch/?types=quote&symbols={ticker_strings}&token={IEX_CLOUD_API_TOKEN}'\n",
    "        data = requests.get(batch_api_call_url).json()\n",
    "        tickers = [k for k in data.keys()]\n",
    "        latestprices = [data[k]['quote']['latestPrice'] for k in data.keys()]\n",
    "        marketcaps = [data[k]['quote']['marketCap'] for k in data.keys()]\n",
    "        df = pd.DataFrame({'ticker': tickers, 'latest_price': latestprices, 'market_cap': marketcaps})\n",
    "        df_list.append(df)\n",
    "    return  pd.concat(df_list, ignore_index=True)\n"
   ]
  },
  {
   "cell_type": "code",
   "execution_count": 294,
   "metadata": {},
   "outputs": [],
   "source": [
    "batch_df = get_data_batch(stocks)"
   ]
  },
  {
   "cell_type": "code",
   "execution_count": 295,
   "metadata": {},
   "outputs": [
    {
     "data": {
      "text/html": [
       "<div>\n",
       "<style scoped>\n",
       "    .dataframe tbody tr th:only-of-type {\n",
       "        vertical-align: middle;\n",
       "    }\n",
       "\n",
       "    .dataframe tbody tr th {\n",
       "        vertical-align: top;\n",
       "    }\n",
       "\n",
       "    .dataframe thead th {\n",
       "        text-align: right;\n",
       "    }\n",
       "</style>\n",
       "<table border=\"1\" class=\"dataframe\">\n",
       "  <thead>\n",
       "    <tr style=\"text-align: right;\">\n",
       "      <th></th>\n",
       "      <th>ticker</th>\n",
       "      <th>latest_price</th>\n",
       "      <th>market_cap</th>\n",
       "    </tr>\n",
       "  </thead>\n",
       "  <tbody>\n",
       "    <tr>\n",
       "      <th>0</th>\n",
       "      <td>A</td>\n",
       "      <td>131.79</td>\n",
       "      <td>40857084296</td>\n",
       "    </tr>\n",
       "    <tr>\n",
       "      <th>1</th>\n",
       "      <td>AAL</td>\n",
       "      <td>15.42</td>\n",
       "      <td>9459478008</td>\n",
       "    </tr>\n",
       "    <tr>\n",
       "      <th>2</th>\n",
       "      <td>AAP</td>\n",
       "      <td>182.84</td>\n",
       "      <td>12074804386</td>\n",
       "    </tr>\n",
       "    <tr>\n",
       "      <th>3</th>\n",
       "      <td>AAPL</td>\n",
       "      <td>132.90</td>\n",
       "      <td>2225387810895</td>\n",
       "    </tr>\n",
       "    <tr>\n",
       "      <th>4</th>\n",
       "      <td>ABBV</td>\n",
       "      <td>112.08</td>\n",
       "      <td>196686690146</td>\n",
       "    </tr>\n",
       "  </tbody>\n",
       "</table>\n",
       "</div>"
      ],
      "text/plain": [
       "  ticker  latest_price     market_cap\n",
       "0      A        131.79    40857084296\n",
       "1    AAL         15.42     9459478008\n",
       "2    AAP        182.84    12074804386\n",
       "3   AAPL        132.90  2225387810895\n",
       "4   ABBV        112.08   196686690146"
      ]
     },
     "execution_count": 295,
     "metadata": {},
     "output_type": "execute_result"
    }
   ],
   "source": [
    "batch_df.head()"
   ]
  },
  {
   "cell_type": "markdown",
   "metadata": {},
   "source": [
    "# Calculating Share Amounts\n",
    "In order to calculate the share amounts needed for each ticker, we will beed the size of the portfolio. \n",
    "\n",
    "The below function evenly divides the portfolio dollar amount amongst each name in the index, and calculates the amount of shares based on that number.\n",
    "\n",
    "Note that we are rounding down partial share amounts to the nearest whole number so we don't go over the amount we wish to invest."
   ]
  },
  {
   "cell_type": "code",
   "execution_count": 296,
   "metadata": {},
   "outputs": [],
   "source": [
    "def get_share_amounts(df, portfolio_size=50000000):\n",
    "    share_amounts = portfolio_size / len(df.index)\n",
    "    return df.assign(recommended_trades= lambda x: np.floor(share_amounts /  x['latest_price']))"
   ]
  },
  {
   "cell_type": "code",
   "execution_count": 297,
   "metadata": {},
   "outputs": [
    {
     "data": {
      "text/html": [
       "<div>\n",
       "<style scoped>\n",
       "    .dataframe tbody tr th:only-of-type {\n",
       "        vertical-align: middle;\n",
       "    }\n",
       "\n",
       "    .dataframe tbody tr th {\n",
       "        vertical-align: top;\n",
       "    }\n",
       "\n",
       "    .dataframe thead th {\n",
       "        text-align: right;\n",
       "    }\n",
       "</style>\n",
       "<table border=\"1\" class=\"dataframe\">\n",
       "  <thead>\n",
       "    <tr style=\"text-align: right;\">\n",
       "      <th></th>\n",
       "      <th>ticker</th>\n",
       "      <th>latest_price</th>\n",
       "      <th>market_cap</th>\n",
       "      <th>recommended_trades</th>\n",
       "    </tr>\n",
       "  </thead>\n",
       "  <tbody>\n",
       "    <tr>\n",
       "      <th>0</th>\n",
       "      <td>A</td>\n",
       "      <td>131.79</td>\n",
       "      <td>40857084296</td>\n",
       "      <td>601.0</td>\n",
       "    </tr>\n",
       "    <tr>\n",
       "      <th>1</th>\n",
       "      <td>AAL</td>\n",
       "      <td>15.42</td>\n",
       "      <td>9459478008</td>\n",
       "      <td>5136.0</td>\n",
       "    </tr>\n",
       "    <tr>\n",
       "      <th>2</th>\n",
       "      <td>AAP</td>\n",
       "      <td>182.84</td>\n",
       "      <td>12074804386</td>\n",
       "      <td>433.0</td>\n",
       "    </tr>\n",
       "    <tr>\n",
       "      <th>3</th>\n",
       "      <td>AAPL</td>\n",
       "      <td>132.90</td>\n",
       "      <td>2225387810895</td>\n",
       "      <td>595.0</td>\n",
       "    </tr>\n",
       "    <tr>\n",
       "      <th>4</th>\n",
       "      <td>ABBV</td>\n",
       "      <td>112.08</td>\n",
       "      <td>196686690146</td>\n",
       "      <td>706.0</td>\n",
       "    </tr>\n",
       "  </tbody>\n",
       "</table>\n",
       "</div>"
      ],
      "text/plain": [
       "  ticker  latest_price     market_cap  recommended_trades\n",
       "0      A        131.79    40857084296               601.0\n",
       "1    AAL         15.42     9459478008              5136.0\n",
       "2    AAP        182.84    12074804386               433.0\n",
       "3   AAPL        132.90  2225387810895               595.0\n",
       "4   ABBV        112.08   196686690146               706.0"
      ]
     },
     "execution_count": 297,
     "metadata": {},
     "output_type": "execute_result"
    }
   ],
   "source": [
    "final_df = get_share_amounts(batch_df, 40000000)\n",
    "\n",
    "final_df.head()"
   ]
  },
  {
   "cell_type": "markdown",
   "metadata": {},
   "source": [
    "# Exporting Data to Excel\n",
    "\n",
    "Pandas can easily output to a csv file of xlsx file natively. However, if we want to output to a styled xlsx file, we can use `xlsxwriter` to customize the output to a much greater degree. "
   ]
  },
  {
   "cell_type": "code",
   "execution_count": 301,
   "metadata": {},
   "outputs": [],
   "source": [
    "writer = pd.ExcelWriter(r'.\\data\\equal_weight_recommended_trades.xlsx', engine='xlsxwriter')\n",
    "final_df.to_excel(writer, sheet_name='Recommended Trades', index = False)\n",
    "\n",
    "background_color = '#0a0a23'\n",
    "font_color = '#ffffff'\n",
    "\n",
    "string_format = writer.book.add_format(\n",
    "        {\n",
    "        'font_color': font_color,\n",
    "        'bg_color': background_color,\n",
    "        'border': 1,\n",
    "        'border_color': font_color\n",
    "        }\n",
    "    )\n",
    "\n",
    "dollar_format = writer.book.add_format(\n",
    "        {\n",
    "        'num_format':'$0.00',\n",
    "        'font_color': font_color,\n",
    "        'bg_color': background_color,\n",
    "        'border': 1,\n",
    "        'border_color': font_color\n",
    "        }\n",
    "    )\n",
    "\n",
    "integer_format = writer.book.add_format(\n",
    "        {\n",
    "        'num_format':'0',\n",
    "        'font_color': font_color,\n",
    "        'bg_color': background_color,\n",
    "        'border': 1,\n",
    "        'border_color': font_color\n",
    "        }\n",
    "    )\n",
    "\n",
    "market_cap_format = writer.book.add_format(\n",
    "        {\n",
    "        'num_format':'$#,##0.0,,', # millions\n",
    "        'font_color': font_color,\n",
    "        'bg_color': background_color,\n",
    "        'border': 1,\n",
    "        'border_color': font_color\n",
    "        }\n",
    "    )\n",
    "\n",
    "column_formats = { \n",
    "                    'A': ['ticker', string_format],\n",
    "                    'B': ['latest_price', dollar_format],\n",
    "                    'C': ['market_cap', market_cap_format],\n",
    "                    'D': ['recommended_trades', integer_format]\n",
    "                    }\n",
    "\n",
    "for column in column_formats.keys():\n",
    "    writer.sheets['Recommended Trades'].set_column(f'{column}:{column}', 20, column_formats[column][1])\n",
    "    writer.sheets['Recommended Trades'].write(f'{column}1', column_formats[column][0], string_format)\n",
    "    \n",
    "writer.sheets['Recommended Trades'].hide_gridlines(2)\n",
    "\n",
    "writer.save()"
   ]
  },
  {
   "cell_type": "code",
   "execution_count": null,
   "metadata": {},
   "outputs": [],
   "source": []
  }
 ],
 "metadata": {
  "kernelspec": {
   "display_name": "algo",
   "language": "python",
   "name": "algo"
  },
  "language_info": {
   "codemirror_mode": {
    "name": "ipython",
    "version": 3
   },
   "file_extension": ".py",
   "mimetype": "text/x-python",
   "name": "python",
   "nbconvert_exporter": "python",
   "pygments_lexer": "ipython3",
   "version": "3.8.3"
  }
 },
 "nbformat": 4,
 "nbformat_minor": 4
}
